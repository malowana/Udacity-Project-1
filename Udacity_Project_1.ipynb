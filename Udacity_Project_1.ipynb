{
  "nbformat": 4,
  "nbformat_minor": 0,
  "metadata": {
    "colab": {
      "provenance": [],
      "authorship_tag": "ABX9TyMxm5Tq2cZJ853FGgJHxENv",
      "include_colab_link": true
    },
    "kernelspec": {
      "name": "python3",
      "display_name": "Python 3"
    },
    "language_info": {
      "name": "python"
    }
  },
  "cells": [
    {
      "cell_type": "markdown",
      "metadata": {
        "id": "view-in-github",
        "colab_type": "text"
      },
      "source": [
        "<a href=\"https://colab.research.google.com/github/malowana/Udacity-Project-1/blob/main/Udacity_Project_1.ipynb\" target=\"_parent\"><img src=\"https://colab.research.google.com/assets/colab-badge.svg\" alt=\"Open In Colab\"/></a>"
      ]
    },
    {
      "cell_type": "code",
      "source": [
        "from google.colab import drive\n",
        "drive.mount('/content/drive')"
      ],
      "metadata": {
        "colab": {
          "base_uri": "https://localhost:8080/"
        },
        "id": "rKgRvbIRK6T0",
        "outputId": "6fe0bc61-3282-4049-eb9d-4b1b659045c9"
      },
      "execution_count": null,
      "outputs": [
        {
          "output_type": "stream",
          "name": "stdout",
          "text": [
            "Mounted at /content/drive\n"
          ]
        }
      ]
    },
    {
      "cell_type": "code",
      "source": [
        "import pandas as pd\n",
        "import numpy as np\n",
        "import matplotlib.pyplot as plt"
      ],
      "metadata": {
        "id": "rFpRZZkeK7wj"
      },
      "execution_count": null,
      "outputs": []
    },
    {
      "cell_type": "code",
      "source": [
        "#read file\n",
        "df_listings = pd.read_csv('/content/drive/MyDrive/AI/UDACITY/listings.csv.gz',\n",
        "                          compression='gzip')"
      ],
      "metadata": {
        "id": "QNcjGVQRLtEB"
      },
      "execution_count": null,
      "outputs": []
    },
    {
      "cell_type": "markdown",
      "source": [
        "Data Description"
      ],
      "metadata": {
        "id": "DMU8cblnkSvQ"
      }
    },
    {
      "cell_type": "code",
      "source": [
        "df_listings.shape"
      ],
      "metadata": {
        "colab": {
          "base_uri": "https://localhost:8080/"
        },
        "id": "6_mTUoWwT5Dn",
        "outputId": "6864bce5-1bda-439f-d7ad-d3024c8dda79"
      },
      "execution_count": null,
      "outputs": [
        {
          "output_type": "execute_result",
          "data": {
            "text/plain": [
              "(6809, 75)"
            ]
          },
          "metadata": {},
          "execution_count": 81
        }
      ]
    },
    {
      "cell_type": "code",
      "source": [
        "df_listings.columns"
      ],
      "metadata": {
        "colab": {
          "base_uri": "https://localhost:8080/"
        },
        "id": "QuzSm9CeSUe5",
        "outputId": "376c2186-23ed-46ec-e9a2-2ab6b7bda946"
      },
      "execution_count": null,
      "outputs": [
        {
          "output_type": "execute_result",
          "data": {
            "text/plain": [
              "Index(['id', 'listing_url', 'scrape_id', 'last_scraped', 'source', 'name',\n",
              "       'description', 'neighborhood_overview', 'picture_url', 'host_id',\n",
              "       'host_url', 'host_name', 'host_since', 'host_location', 'host_about',\n",
              "       'host_response_time', 'host_response_rate', 'host_acceptance_rate',\n",
              "       'host_is_superhost', 'host_thumbnail_url', 'host_picture_url',\n",
              "       'host_neighbourhood', 'host_listings_count',\n",
              "       'host_total_listings_count', 'host_verifications',\n",
              "       'host_has_profile_pic', 'host_identity_verified', 'neighbourhood',\n",
              "       'neighbourhood_cleansed', 'neighbourhood_group_cleansed', 'latitude',\n",
              "       'longitude', 'property_type', 'room_type', 'accommodates', 'bathrooms',\n",
              "       'bathrooms_text', 'bedrooms', 'beds', 'amenities', 'price',\n",
              "       'minimum_nights', 'maximum_nights', 'minimum_minimum_nights',\n",
              "       'maximum_minimum_nights', 'minimum_maximum_nights',\n",
              "       'maximum_maximum_nights', 'minimum_nights_avg_ntm',\n",
              "       'maximum_nights_avg_ntm', 'calendar_updated', 'has_availability',\n",
              "       'availability_30', 'availability_60', 'availability_90',\n",
              "       'availability_365', 'calendar_last_scraped', 'number_of_reviews',\n",
              "       'number_of_reviews_ltm', 'number_of_reviews_l30d', 'first_review',\n",
              "       'last_review', 'review_scores_rating', 'review_scores_accuracy',\n",
              "       'review_scores_cleanliness', 'review_scores_checkin',\n",
              "       'review_scores_communication', 'review_scores_location',\n",
              "       'review_scores_value', 'license', 'instant_bookable',\n",
              "       'calculated_host_listings_count',\n",
              "       'calculated_host_listings_count_entire_homes',\n",
              "       'calculated_host_listings_count_private_rooms',\n",
              "       'calculated_host_listings_count_shared_rooms', 'reviews_per_month'],\n",
              "      dtype='object')"
            ]
          },
          "metadata": {},
          "execution_count": 82
        }
      ]
    },
    {
      "cell_type": "code",
      "source": [
        "df_listings.head()"
      ],
      "metadata": {
        "colab": {
          "base_uri": "https://localhost:8080/",
          "height": 647
        },
        "id": "LiH_lCmOQtJp",
        "outputId": "d4ebff22-0b5d-4c8f-ec69-b306a00a8c02"
      },
      "execution_count": null,
      "outputs": [
        {
          "output_type": "execute_result",
          "data": {
            "text/plain": [
              "       id                          listing_url       scrape_id last_scraped  \\\n",
              "0  528022  https://www.airbnb.com/rooms/528022  20221205143541   2022-12-05   \n",
              "1    2818    https://www.airbnb.com/rooms/2818  20221205143541   2022-12-05   \n",
              "2   20168   https://www.airbnb.com/rooms/20168  20221205143541   2022-12-05   \n",
              "3   27886   https://www.airbnb.com/rooms/27886  20221205143541   2022-12-05   \n",
              "4   28871   https://www.airbnb.com/rooms/28871  20221205143541   2022-12-05   \n",
              "\n",
              "            source                                               name  \\\n",
              "0      city scrape                                     Somewhere Else   \n",
              "1      city scrape          Quiet Garden View Room & Super Fast Wi-Fi   \n",
              "2  previous scrape       Studio with private bathroom in the centre 1   \n",
              "3      city scrape  Romantic, stylish B&B houseboat in canal district   \n",
              "4      city scrape                            Comfortable double room   \n",
              "\n",
              "                                         description  \\\n",
              "0  Highlights<br />*Located only 5 minutes from C...   \n",
              "1  Quiet Garden View Room & Super Fast Wi-Fi<br /...   \n",
              "2  17th century Dutch townhouse in the heart of t...   \n",
              "3  Stylish and romantic houseboat on fantastic hi...   \n",
              "4  <b>The space</b><br />In a monumental house ri...   \n",
              "\n",
              "                               neighborhood_overview  \\\n",
              "0                                                NaN   \n",
              "1  Indische Buurt (\"Indies Neighborhood\") is a ne...   \n",
              "2  Located just in between famous central canals....   \n",
              "3         Central, quiet, safe, clean and beautiful.   \n",
              "4       Flower market , Leidseplein , Rembrantsplein   \n",
              "\n",
              "                                         picture_url  host_id  ...  \\\n",
              "0  https://a0.muscache.com/pictures/bf6fa79c-5863...  2594559  ...   \n",
              "1  https://a0.muscache.com/pictures/10272854/8dcc...     3159  ...   \n",
              "2  https://a0.muscache.com/pictures/69979628/fd6a...    59484  ...   \n",
              "3  https://a0.muscache.com/pictures/02c2da9d-660e...    97647  ...   \n",
              "4  https://a0.muscache.com/pictures/160889/362340...   124245  ...   \n",
              "\n",
              "  review_scores_communication review_scores_location review_scores_value  \\\n",
              "0                        4.90                   4.78                4.72   \n",
              "1                        4.98                   4.69                4.81   \n",
              "2                        4.62                   4.87                4.49   \n",
              "3                        4.92                   4.89                4.79   \n",
              "4                        4.94                   4.97                4.83   \n",
              "\n",
              "                    license instant_bookable calculated_host_listings_count  \\\n",
              "0  0363 9289 A94D 5C21 A579                f                              1   \n",
              "1  0363 5F3A 5684 6750 D14D                f                              1   \n",
              "2  0363 CBB3 2C10 0C2A 1E29                t                              2   \n",
              "3  0363 974D 4986 7411 88D8                t                              1   \n",
              "4  0363 607B EA74 0BD8 2F6F                f                              2   \n",
              "\n",
              "  calculated_host_listings_count_entire_homes  \\\n",
              "0                                           0   \n",
              "1                                           0   \n",
              "2                                           0   \n",
              "3                                           0   \n",
              "4                                           0   \n",
              "\n",
              "  calculated_host_listings_count_private_rooms  \\\n",
              "0                                            1   \n",
              "1                                            1   \n",
              "2                                            2   \n",
              "3                                            1   \n",
              "4                                            2   \n",
              "\n",
              "  calculated_host_listings_count_shared_rooms reviews_per_month  \n",
              "0                                           0              3.30  \n",
              "1                                           0              1.88  \n",
              "2                                           0              2.18  \n",
              "3                                           0              1.83  \n",
              "4                                           0              3.03  \n",
              "\n",
              "[5 rows x 75 columns]"
            ],
            "text/html": [
              "\n",
              "  <div id=\"df-b8e889e1-cfd3-4e93-ae24-adae233300b6\">\n",
              "    <div class=\"colab-df-container\">\n",
              "      <div>\n",
              "<style scoped>\n",
              "    .dataframe tbody tr th:only-of-type {\n",
              "        vertical-align: middle;\n",
              "    }\n",
              "\n",
              "    .dataframe tbody tr th {\n",
              "        vertical-align: top;\n",
              "    }\n",
              "\n",
              "    .dataframe thead th {\n",
              "        text-align: right;\n",
              "    }\n",
              "</style>\n",
              "<table border=\"1\" class=\"dataframe\">\n",
              "  <thead>\n",
              "    <tr style=\"text-align: right;\">\n",
              "      <th></th>\n",
              "      <th>id</th>\n",
              "      <th>listing_url</th>\n",
              "      <th>scrape_id</th>\n",
              "      <th>last_scraped</th>\n",
              "      <th>source</th>\n",
              "      <th>name</th>\n",
              "      <th>description</th>\n",
              "      <th>neighborhood_overview</th>\n",
              "      <th>picture_url</th>\n",
              "      <th>host_id</th>\n",
              "      <th>...</th>\n",
              "      <th>review_scores_communication</th>\n",
              "      <th>review_scores_location</th>\n",
              "      <th>review_scores_value</th>\n",
              "      <th>license</th>\n",
              "      <th>instant_bookable</th>\n",
              "      <th>calculated_host_listings_count</th>\n",
              "      <th>calculated_host_listings_count_entire_homes</th>\n",
              "      <th>calculated_host_listings_count_private_rooms</th>\n",
              "      <th>calculated_host_listings_count_shared_rooms</th>\n",
              "      <th>reviews_per_month</th>\n",
              "    </tr>\n",
              "  </thead>\n",
              "  <tbody>\n",
              "    <tr>\n",
              "      <th>0</th>\n",
              "      <td>528022</td>\n",
              "      <td>https://www.airbnb.com/rooms/528022</td>\n",
              "      <td>20221205143541</td>\n",
              "      <td>2022-12-05</td>\n",
              "      <td>city scrape</td>\n",
              "      <td>Somewhere Else</td>\n",
              "      <td>Highlights&lt;br /&gt;*Located only 5 minutes from C...</td>\n",
              "      <td>NaN</td>\n",
              "      <td>https://a0.muscache.com/pictures/bf6fa79c-5863...</td>\n",
              "      <td>2594559</td>\n",
              "      <td>...</td>\n",
              "      <td>4.90</td>\n",
              "      <td>4.78</td>\n",
              "      <td>4.72</td>\n",
              "      <td>0363 9289 A94D 5C21 A579</td>\n",
              "      <td>f</td>\n",
              "      <td>1</td>\n",
              "      <td>0</td>\n",
              "      <td>1</td>\n",
              "      <td>0</td>\n",
              "      <td>3.30</td>\n",
              "    </tr>\n",
              "    <tr>\n",
              "      <th>1</th>\n",
              "      <td>2818</td>\n",
              "      <td>https://www.airbnb.com/rooms/2818</td>\n",
              "      <td>20221205143541</td>\n",
              "      <td>2022-12-05</td>\n",
              "      <td>city scrape</td>\n",
              "      <td>Quiet Garden View Room &amp; Super Fast Wi-Fi</td>\n",
              "      <td>Quiet Garden View Room &amp; Super Fast Wi-Fi&lt;br /...</td>\n",
              "      <td>Indische Buurt (\"Indies Neighborhood\") is a ne...</td>\n",
              "      <td>https://a0.muscache.com/pictures/10272854/8dcc...</td>\n",
              "      <td>3159</td>\n",
              "      <td>...</td>\n",
              "      <td>4.98</td>\n",
              "      <td>4.69</td>\n",
              "      <td>4.81</td>\n",
              "      <td>0363 5F3A 5684 6750 D14D</td>\n",
              "      <td>f</td>\n",
              "      <td>1</td>\n",
              "      <td>0</td>\n",
              "      <td>1</td>\n",
              "      <td>0</td>\n",
              "      <td>1.88</td>\n",
              "    </tr>\n",
              "    <tr>\n",
              "      <th>2</th>\n",
              "      <td>20168</td>\n",
              "      <td>https://www.airbnb.com/rooms/20168</td>\n",
              "      <td>20221205143541</td>\n",
              "      <td>2022-12-05</td>\n",
              "      <td>previous scrape</td>\n",
              "      <td>Studio with private bathroom in the centre 1</td>\n",
              "      <td>17th century Dutch townhouse in the heart of t...</td>\n",
              "      <td>Located just in between famous central canals....</td>\n",
              "      <td>https://a0.muscache.com/pictures/69979628/fd6a...</td>\n",
              "      <td>59484</td>\n",
              "      <td>...</td>\n",
              "      <td>4.62</td>\n",
              "      <td>4.87</td>\n",
              "      <td>4.49</td>\n",
              "      <td>0363 CBB3 2C10 0C2A 1E29</td>\n",
              "      <td>t</td>\n",
              "      <td>2</td>\n",
              "      <td>0</td>\n",
              "      <td>2</td>\n",
              "      <td>0</td>\n",
              "      <td>2.18</td>\n",
              "    </tr>\n",
              "    <tr>\n",
              "      <th>3</th>\n",
              "      <td>27886</td>\n",
              "      <td>https://www.airbnb.com/rooms/27886</td>\n",
              "      <td>20221205143541</td>\n",
              "      <td>2022-12-05</td>\n",
              "      <td>city scrape</td>\n",
              "      <td>Romantic, stylish B&amp;B houseboat in canal district</td>\n",
              "      <td>Stylish and romantic houseboat on fantastic hi...</td>\n",
              "      <td>Central, quiet, safe, clean and beautiful.</td>\n",
              "      <td>https://a0.muscache.com/pictures/02c2da9d-660e...</td>\n",
              "      <td>97647</td>\n",
              "      <td>...</td>\n",
              "      <td>4.92</td>\n",
              "      <td>4.89</td>\n",
              "      <td>4.79</td>\n",
              "      <td>0363 974D 4986 7411 88D8</td>\n",
              "      <td>t</td>\n",
              "      <td>1</td>\n",
              "      <td>0</td>\n",
              "      <td>1</td>\n",
              "      <td>0</td>\n",
              "      <td>1.83</td>\n",
              "    </tr>\n",
              "    <tr>\n",
              "      <th>4</th>\n",
              "      <td>28871</td>\n",
              "      <td>https://www.airbnb.com/rooms/28871</td>\n",
              "      <td>20221205143541</td>\n",
              "      <td>2022-12-05</td>\n",
              "      <td>city scrape</td>\n",
              "      <td>Comfortable double room</td>\n",
              "      <td>&lt;b&gt;The space&lt;/b&gt;&lt;br /&gt;In a monumental house ri...</td>\n",
              "      <td>Flower market , Leidseplein , Rembrantsplein</td>\n",
              "      <td>https://a0.muscache.com/pictures/160889/362340...</td>\n",
              "      <td>124245</td>\n",
              "      <td>...</td>\n",
              "      <td>4.94</td>\n",
              "      <td>4.97</td>\n",
              "      <td>4.83</td>\n",
              "      <td>0363 607B EA74 0BD8 2F6F</td>\n",
              "      <td>f</td>\n",
              "      <td>2</td>\n",
              "      <td>0</td>\n",
              "      <td>2</td>\n",
              "      <td>0</td>\n",
              "      <td>3.03</td>\n",
              "    </tr>\n",
              "  </tbody>\n",
              "</table>\n",
              "<p>5 rows × 75 columns</p>\n",
              "</div>\n",
              "      <button class=\"colab-df-convert\" onclick=\"convertToInteractive('df-b8e889e1-cfd3-4e93-ae24-adae233300b6')\"\n",
              "              title=\"Convert this dataframe to an interactive table.\"\n",
              "              style=\"display:none;\">\n",
              "        \n",
              "  <svg xmlns=\"http://www.w3.org/2000/svg\" height=\"24px\"viewBox=\"0 0 24 24\"\n",
              "       width=\"24px\">\n",
              "    <path d=\"M0 0h24v24H0V0z\" fill=\"none\"/>\n",
              "    <path d=\"M18.56 5.44l.94 2.06.94-2.06 2.06-.94-2.06-.94-.94-2.06-.94 2.06-2.06.94zm-11 1L8.5 8.5l.94-2.06 2.06-.94-2.06-.94L8.5 2.5l-.94 2.06-2.06.94zm10 10l.94 2.06.94-2.06 2.06-.94-2.06-.94-.94-2.06-.94 2.06-2.06.94z\"/><path d=\"M17.41 7.96l-1.37-1.37c-.4-.4-.92-.59-1.43-.59-.52 0-1.04.2-1.43.59L10.3 9.45l-7.72 7.72c-.78.78-.78 2.05 0 2.83L4 21.41c.39.39.9.59 1.41.59.51 0 1.02-.2 1.41-.59l7.78-7.78 2.81-2.81c.8-.78.8-2.07 0-2.86zM5.41 20L4 18.59l7.72-7.72 1.47 1.35L5.41 20z\"/>\n",
              "  </svg>\n",
              "      </button>\n",
              "      \n",
              "  <style>\n",
              "    .colab-df-container {\n",
              "      display:flex;\n",
              "      flex-wrap:wrap;\n",
              "      gap: 12px;\n",
              "    }\n",
              "\n",
              "    .colab-df-convert {\n",
              "      background-color: #E8F0FE;\n",
              "      border: none;\n",
              "      border-radius: 50%;\n",
              "      cursor: pointer;\n",
              "      display: none;\n",
              "      fill: #1967D2;\n",
              "      height: 32px;\n",
              "      padding: 0 0 0 0;\n",
              "      width: 32px;\n",
              "    }\n",
              "\n",
              "    .colab-df-convert:hover {\n",
              "      background-color: #E2EBFA;\n",
              "      box-shadow: 0px 1px 2px rgba(60, 64, 67, 0.3), 0px 1px 3px 1px rgba(60, 64, 67, 0.15);\n",
              "      fill: #174EA6;\n",
              "    }\n",
              "\n",
              "    [theme=dark] .colab-df-convert {\n",
              "      background-color: #3B4455;\n",
              "      fill: #D2E3FC;\n",
              "    }\n",
              "\n",
              "    [theme=dark] .colab-df-convert:hover {\n",
              "      background-color: #434B5C;\n",
              "      box-shadow: 0px 1px 3px 1px rgba(0, 0, 0, 0.15);\n",
              "      filter: drop-shadow(0px 1px 2px rgba(0, 0, 0, 0.3));\n",
              "      fill: #FFFFFF;\n",
              "    }\n",
              "  </style>\n",
              "\n",
              "      <script>\n",
              "        const buttonEl =\n",
              "          document.querySelector('#df-b8e889e1-cfd3-4e93-ae24-adae233300b6 button.colab-df-convert');\n",
              "        buttonEl.style.display =\n",
              "          google.colab.kernel.accessAllowed ? 'block' : 'none';\n",
              "\n",
              "        async function convertToInteractive(key) {\n",
              "          const element = document.querySelector('#df-b8e889e1-cfd3-4e93-ae24-adae233300b6');\n",
              "          const dataTable =\n",
              "            await google.colab.kernel.invokeFunction('convertToInteractive',\n",
              "                                                     [key], {});\n",
              "          if (!dataTable) return;\n",
              "\n",
              "          const docLinkHtml = 'Like what you see? Visit the ' +\n",
              "            '<a target=\"_blank\" href=https://colab.research.google.com/notebooks/data_table.ipynb>data table notebook</a>'\n",
              "            + ' to learn more about interactive tables.';\n",
              "          element.innerHTML = '';\n",
              "          dataTable['output_type'] = 'display_data';\n",
              "          await google.colab.output.renderOutput(dataTable, element);\n",
              "          const docLink = document.createElement('div');\n",
              "          docLink.innerHTML = docLinkHtml;\n",
              "          element.appendChild(docLink);\n",
              "        }\n",
              "      </script>\n",
              "    </div>\n",
              "  </div>\n",
              "  "
            ]
          },
          "metadata": {},
          "execution_count": 83
        }
      ]
    },
    {
      "cell_type": "code",
      "source": [
        "df_listings.info()"
      ],
      "metadata": {
        "colab": {
          "base_uri": "https://localhost:8080/"
        },
        "id": "jFyJUsNIkYno",
        "outputId": "7b614d1d-ee82-4fb4-da37-e5c081ba94bf"
      },
      "execution_count": null,
      "outputs": [
        {
          "output_type": "stream",
          "name": "stdout",
          "text": [
            "<class 'pandas.core.frame.DataFrame'>\n",
            "RangeIndex: 6809 entries, 0 to 6808\n",
            "Data columns (total 75 columns):\n",
            " #   Column                                        Non-Null Count  Dtype  \n",
            "---  ------                                        --------------  -----  \n",
            " 0   id                                            6809 non-null   int64  \n",
            " 1   listing_url                                   6809 non-null   object \n",
            " 2   scrape_id                                     6809 non-null   int64  \n",
            " 3   last_scraped                                  6809 non-null   object \n",
            " 4   source                                        6809 non-null   object \n",
            " 5   name                                          6809 non-null   object \n",
            " 6   description                                   6801 non-null   object \n",
            " 7   neighborhood_overview                         4428 non-null   object \n",
            " 8   picture_url                                   6809 non-null   object \n",
            " 9   host_id                                       6809 non-null   int64  \n",
            " 10  host_url                                      6809 non-null   object \n",
            " 11  host_name                                     6809 non-null   object \n",
            " 12  host_since                                    6809 non-null   object \n",
            " 13  host_location                                 6034 non-null   object \n",
            " 14  host_about                                    4022 non-null   object \n",
            " 15  host_response_time                            4755 non-null   object \n",
            " 16  host_response_rate                            4755 non-null   object \n",
            " 17  host_acceptance_rate                          5817 non-null   object \n",
            " 18  host_is_superhost                             6805 non-null   object \n",
            " 19  host_thumbnail_url                            6809 non-null   object \n",
            " 20  host_picture_url                              6809 non-null   object \n",
            " 21  host_neighbourhood                            3038 non-null   object \n",
            " 22  host_listings_count                           6809 non-null   int64  \n",
            " 23  host_total_listings_count                     6809 non-null   int64  \n",
            " 24  host_verifications                            6809 non-null   object \n",
            " 25  host_has_profile_pic                          6809 non-null   object \n",
            " 26  host_identity_verified                        6809 non-null   object \n",
            " 27  neighbourhood                                 4428 non-null   object \n",
            " 28  neighbourhood_cleansed                        6809 non-null   object \n",
            " 29  neighbourhood_group_cleansed                  0 non-null      float64\n",
            " 30  latitude                                      6809 non-null   float64\n",
            " 31  longitude                                     6809 non-null   float64\n",
            " 32  property_type                                 6809 non-null   object \n",
            " 33  room_type                                     6809 non-null   object \n",
            " 34  accommodates                                  6809 non-null   int64  \n",
            " 35  bathrooms                                     0 non-null      float64\n",
            " 36  bathrooms_text                                6796 non-null   object \n",
            " 37  bedrooms                                      6523 non-null   float64\n",
            " 38  beds                                          6718 non-null   float64\n",
            " 39  amenities                                     6809 non-null   object \n",
            " 40  price                                         6809 non-null   object \n",
            " 41  minimum_nights                                6809 non-null   int64  \n",
            " 42  maximum_nights                                6809 non-null   int64  \n",
            " 43  minimum_minimum_nights                        6809 non-null   int64  \n",
            " 44  maximum_minimum_nights                        6809 non-null   int64  \n",
            " 45  minimum_maximum_nights                        6809 non-null   int64  \n",
            " 46  maximum_maximum_nights                        6809 non-null   int64  \n",
            " 47  minimum_nights_avg_ntm                        6809 non-null   float64\n",
            " 48  maximum_nights_avg_ntm                        6809 non-null   float64\n",
            " 49  calendar_updated                              0 non-null      float64\n",
            " 50  has_availability                              6809 non-null   object \n",
            " 51  availability_30                               6809 non-null   int64  \n",
            " 52  availability_60                               6809 non-null   int64  \n",
            " 53  availability_90                               6809 non-null   int64  \n",
            " 54  availability_365                              6809 non-null   int64  \n",
            " 55  calendar_last_scraped                         6809 non-null   object \n",
            " 56  number_of_reviews                             6809 non-null   int64  \n",
            " 57  number_of_reviews_ltm                         6809 non-null   int64  \n",
            " 58  number_of_reviews_l30d                        6809 non-null   int64  \n",
            " 59  first_review                                  6161 non-null   object \n",
            " 60  last_review                                   6161 non-null   object \n",
            " 61  review_scores_rating                          6161 non-null   float64\n",
            " 62  review_scores_accuracy                        6157 non-null   float64\n",
            " 63  review_scores_cleanliness                     6157 non-null   float64\n",
            " 64  review_scores_checkin                         6157 non-null   float64\n",
            " 65  review_scores_communication                   6157 non-null   float64\n",
            " 66  review_scores_location                        6157 non-null   float64\n",
            " 67  review_scores_value                           6157 non-null   float64\n",
            " 68  license                                       6671 non-null   object \n",
            " 69  instant_bookable                              6809 non-null   object \n",
            " 70  calculated_host_listings_count                6809 non-null   int64  \n",
            " 71  calculated_host_listings_count_entire_homes   6809 non-null   int64  \n",
            " 72  calculated_host_listings_count_private_rooms  6809 non-null   int64  \n",
            " 73  calculated_host_listings_count_shared_rooms   6809 non-null   int64  \n",
            " 74  reviews_per_month                             6161 non-null   float64\n",
            "dtypes: float64(17), int64(23), object(35)\n",
            "memory usage: 3.9+ MB\n"
          ]
        }
      ]
    },
    {
      "cell_type": "code",
      "source": [
        "#change if there is some missing values\n",
        "def check_missing(train):\n",
        "\t\"\"\"\n",
        "\tChecking, if in dataframe are missing values.\n",
        "\n",
        "\tParameters:\n",
        "    dataframe : Dataframe where are missing values\n",
        "\n",
        "  Returns:\n",
        "    tuple:Returning tuple (column name, number of missing values)\n",
        "\t\"\"\"\n",
        "\tfor column in train.columns:\n",
        "\t\tmissing = column, train[column].isnull().sum()\n",
        "\t\tif missing[1] == 0: continue\n",
        "\t\tprint(missing)\n",
        "  \n",
        "check_missing(df_listings)"
      ],
      "metadata": {
        "colab": {
          "base_uri": "https://localhost:8080/"
        },
        "id": "RmFo2XgDSAbb",
        "outputId": "adc748fb-e202-4652-9e2b-823797e4c46c"
      },
      "execution_count": null,
      "outputs": [
        {
          "output_type": "stream",
          "name": "stdout",
          "text": [
            "('description', 8)\n",
            "('neighborhood_overview', 2381)\n",
            "('host_location', 775)\n",
            "('host_about', 2787)\n",
            "('host_response_time', 2054)\n",
            "('host_response_rate', 2054)\n",
            "('host_acceptance_rate', 992)\n",
            "('host_is_superhost', 4)\n",
            "('host_neighbourhood', 3771)\n",
            "('neighbourhood', 2381)\n",
            "('neighbourhood_group_cleansed', 6809)\n",
            "('bathrooms', 6809)\n",
            "('bathrooms_text', 13)\n",
            "('bedrooms', 286)\n",
            "('beds', 91)\n",
            "('calendar_updated', 6809)\n",
            "('first_review', 648)\n",
            "('last_review', 648)\n",
            "('review_scores_rating', 648)\n",
            "('review_scores_accuracy', 652)\n",
            "('review_scores_cleanliness', 652)\n",
            "('review_scores_checkin', 652)\n",
            "('review_scores_communication', 652)\n",
            "('review_scores_location', 652)\n",
            "('review_scores_value', 652)\n",
            "('license', 138)\n",
            "('reviews_per_month', 648)\n"
          ]
        }
      ]
    },
    {
      "cell_type": "code",
      "source": [
        "#drop empty columns\n",
        "df_listings = df_listings.drop(['neighbourhood_group_cleansed', 'bathrooms', \n",
        "                                'calendar_updated'], axis=1)"
      ],
      "metadata": {
        "id": "7YdZnlJRTz4a"
      },
      "execution_count": null,
      "outputs": []
    },
    {
      "cell_type": "code",
      "source": [
        "#remove dollar sigh from price value and change to int\n",
        "df_listings['price'] = df_listings['price'].str.replace('$', '').str.replace(\n",
        "    ',', '').str.slice(stop=-3).astype(int)"
      ],
      "metadata": {
        "id": "G8P_giH1NOLy",
        "colab": {
          "base_uri": "https://localhost:8080/"
        },
        "outputId": "f86392a7-6e15-4df9-e8ce-0a171028a99d"
      },
      "execution_count": null,
      "outputs": [
        {
          "output_type": "stream",
          "name": "stderr",
          "text": [
            "<ipython-input-87-b6d12742790f>:2: FutureWarning: The default value of regex will change from True to False in a future version. In addition, single character regular expressions will *not* be treated as literal strings when regex=True.\n",
            "  df_listings['price'] = df_listings['price'].str.replace('$', '').str.replace(\n"
          ]
        }
      ]
    },
    {
      "cell_type": "markdown",
      "source": [
        "**Price vs property type**"
      ],
      "metadata": {
        "id": "N7zMiOggkj5m"
      }
    },
    {
      "cell_type": "code",
      "source": [
        "def group_function(groupby_var=\"property_type\", agg_var=\"price\", smallest=True):\n",
        "  \"\"\"\n",
        "\tGrouping function\n",
        "\n",
        "\tParameters:\n",
        "    argument1 (string): Groupby variable\n",
        "    argument2 (string): Aggregate by variable\n",
        "    argument3 (boolean): Choose sorting type - largest/smallest on top\n",
        "\n",
        "  Returns:\n",
        "    df:Returning groupped and aggregated dataframe\n",
        "\t\"\"\"\n",
        "    if smallest:\n",
        "      return df_listings.groupby(groupby_var)[agg_var].mean().nsmallest(3)\n",
        "    else:\n",
        "      return df_listings.groupby(groupby_var)[agg_var].mean().nlargest(3)"
      ],
      "metadata": {
        "id": "70Zhxj9Vv1DI"
      },
      "execution_count": null,
      "outputs": []
    },
    {
      "cell_type": "code",
      "source": [
        "#top 3 the most expensive by property type\n",
        "group_function(smallest=False)"
      ],
      "metadata": {
        "colab": {
          "base_uri": "https://localhost:8080/"
        },
        "id": "pb1EIXm5BZVb",
        "outputId": "7b52c0d4-4d46-45f5-a46f-1ed32c99ef6d"
      },
      "execution_count": null,
      "outputs": [
        {
          "output_type": "execute_result",
          "data": {
            "text/plain": [
              "property_type\n",
              "Tower                  698.5\n",
              "Entire villa           501.8\n",
              "Shared room in boat    500.0\n",
              "Name: price, dtype: float64"
            ]
          },
          "metadata": {},
          "execution_count": 47
        }
      ]
    },
    {
      "cell_type": "code",
      "source": [
        "#top 3 the cheapest by property type\n",
        "group_function()"
      ],
      "metadata": {
        "id": "gg2UlHrqNCb9",
        "colab": {
          "base_uri": "https://localhost:8080/"
        },
        "outputId": "45335a38-2d82-4175-f0d4-31087b680e95"
      },
      "execution_count": null,
      "outputs": [
        {
          "output_type": "execute_result",
          "data": {
            "text/plain": [
              "property_type\n",
              "Shared room in aparthotel    44.000000\n",
              "Shared room in hostel        46.521739\n",
              "Shared room in farm stay     50.000000\n",
              "Name: price, dtype: float64"
            ]
          },
          "metadata": {},
          "execution_count": 48
        }
      ]
    },
    {
      "cell_type": "code",
      "source": [
        "df_listings[df_listings.property_type ==\"Tower\"]"
      ],
      "metadata": {
        "colab": {
          "base_uri": "https://localhost:8080/",
          "height": 345
        },
        "id": "rhHVI6ZCvPxo",
        "outputId": "bb00e878-806f-4c1a-9b85-de91e5a5a9fa"
      },
      "execution_count": null,
      "outputs": [
        {
          "output_type": "execute_result",
          "data": {
            "text/plain": [
              "            id                            listing_url       scrape_id  \\\n",
              "2859  28970533  https://www.airbnb.com/rooms/28970533  20221205143541   \n",
              "4651  50884955  https://www.airbnb.com/rooms/50884955  20221205143541   \n",
              "\n",
              "     last_scraped       source  \\\n",
              "2859   2022-12-05  city scrape   \n",
              "4651   2022-12-05  city scrape   \n",
              "\n",
              "                                                name  \\\n",
              "2859      Unique stay at Amsterdam The Crane by YAYS   \n",
              "4651  3. Mystique;  5-star suite on top of the crane   \n",
              "\n",
              "                                            description  \\\n",
              "2859  As if sleeping in a converted crane isn’t exce...   \n",
              "4651  <b>The space</b><br />The Mystique suite is 45...   \n",
              "\n",
              "                                  neighborhood_overview  \\\n",
              "2859  The KNSM Island is a former industrial harbour...   \n",
              "4651  Faralda Crane Hotel  is a monumental landmark....   \n",
              "\n",
              "                                            picture_url    host_id  ...  \\\n",
              "2859  https://a0.muscache.com/pictures/22f86e64-0d34...  163282758  ...   \n",
              "4651  https://a0.muscache.com/pictures/prohost-api/H...   21831151  ...   \n",
              "\n",
              "     review_scores_communication review_scores_location review_scores_value  \\\n",
              "2859                        4.53                   4.77                4.53   \n",
              "4651                        5.00                   5.00                3.50   \n",
              "\n",
              "     license instant_bookable calculated_host_listings_count  \\\n",
              "2859  Exempt                t                              1   \n",
              "4651  Exempt                t                              3   \n",
              "\n",
              "     calculated_host_listings_count_entire_homes  \\\n",
              "2859                                           1   \n",
              "4651                                           1   \n",
              "\n",
              "     calculated_host_listings_count_private_rooms  \\\n",
              "2859                                            0   \n",
              "4651                                            2   \n",
              "\n",
              "     calculated_host_listings_count_shared_rooms reviews_per_month  \n",
              "2859                                           0              0.69  \n",
              "4651                                           0              0.28  \n",
              "\n",
              "[2 rows x 72 columns]"
            ],
            "text/html": [
              "\n",
              "  <div id=\"df-32e53620-5b49-46de-8f12-eb11a9af00bd\">\n",
              "    <div class=\"colab-df-container\">\n",
              "      <div>\n",
              "<style scoped>\n",
              "    .dataframe tbody tr th:only-of-type {\n",
              "        vertical-align: middle;\n",
              "    }\n",
              "\n",
              "    .dataframe tbody tr th {\n",
              "        vertical-align: top;\n",
              "    }\n",
              "\n",
              "    .dataframe thead th {\n",
              "        text-align: right;\n",
              "    }\n",
              "</style>\n",
              "<table border=\"1\" class=\"dataframe\">\n",
              "  <thead>\n",
              "    <tr style=\"text-align: right;\">\n",
              "      <th></th>\n",
              "      <th>id</th>\n",
              "      <th>listing_url</th>\n",
              "      <th>scrape_id</th>\n",
              "      <th>last_scraped</th>\n",
              "      <th>source</th>\n",
              "      <th>name</th>\n",
              "      <th>description</th>\n",
              "      <th>neighborhood_overview</th>\n",
              "      <th>picture_url</th>\n",
              "      <th>host_id</th>\n",
              "      <th>...</th>\n",
              "      <th>review_scores_communication</th>\n",
              "      <th>review_scores_location</th>\n",
              "      <th>review_scores_value</th>\n",
              "      <th>license</th>\n",
              "      <th>instant_bookable</th>\n",
              "      <th>calculated_host_listings_count</th>\n",
              "      <th>calculated_host_listings_count_entire_homes</th>\n",
              "      <th>calculated_host_listings_count_private_rooms</th>\n",
              "      <th>calculated_host_listings_count_shared_rooms</th>\n",
              "      <th>reviews_per_month</th>\n",
              "    </tr>\n",
              "  </thead>\n",
              "  <tbody>\n",
              "    <tr>\n",
              "      <th>2859</th>\n",
              "      <td>28970533</td>\n",
              "      <td>https://www.airbnb.com/rooms/28970533</td>\n",
              "      <td>20221205143541</td>\n",
              "      <td>2022-12-05</td>\n",
              "      <td>city scrape</td>\n",
              "      <td>Unique stay at Amsterdam The Crane by YAYS</td>\n",
              "      <td>As if sleeping in a converted crane isn’t exce...</td>\n",
              "      <td>The KNSM Island is a former industrial harbour...</td>\n",
              "      <td>https://a0.muscache.com/pictures/22f86e64-0d34...</td>\n",
              "      <td>163282758</td>\n",
              "      <td>...</td>\n",
              "      <td>4.53</td>\n",
              "      <td>4.77</td>\n",
              "      <td>4.53</td>\n",
              "      <td>Exempt</td>\n",
              "      <td>t</td>\n",
              "      <td>1</td>\n",
              "      <td>1</td>\n",
              "      <td>0</td>\n",
              "      <td>0</td>\n",
              "      <td>0.69</td>\n",
              "    </tr>\n",
              "    <tr>\n",
              "      <th>4651</th>\n",
              "      <td>50884955</td>\n",
              "      <td>https://www.airbnb.com/rooms/50884955</td>\n",
              "      <td>20221205143541</td>\n",
              "      <td>2022-12-05</td>\n",
              "      <td>city scrape</td>\n",
              "      <td>3. Mystique;  5-star suite on top of the crane</td>\n",
              "      <td>&lt;b&gt;The space&lt;/b&gt;&lt;br /&gt;The Mystique suite is 45...</td>\n",
              "      <td>Faralda Crane Hotel  is a monumental landmark....</td>\n",
              "      <td>https://a0.muscache.com/pictures/prohost-api/H...</td>\n",
              "      <td>21831151</td>\n",
              "      <td>...</td>\n",
              "      <td>5.00</td>\n",
              "      <td>5.00</td>\n",
              "      <td>3.50</td>\n",
              "      <td>Exempt</td>\n",
              "      <td>t</td>\n",
              "      <td>3</td>\n",
              "      <td>1</td>\n",
              "      <td>2</td>\n",
              "      <td>0</td>\n",
              "      <td>0.28</td>\n",
              "    </tr>\n",
              "  </tbody>\n",
              "</table>\n",
              "<p>2 rows × 72 columns</p>\n",
              "</div>\n",
              "      <button class=\"colab-df-convert\" onclick=\"convertToInteractive('df-32e53620-5b49-46de-8f12-eb11a9af00bd')\"\n",
              "              title=\"Convert this dataframe to an interactive table.\"\n",
              "              style=\"display:none;\">\n",
              "        \n",
              "  <svg xmlns=\"http://www.w3.org/2000/svg\" height=\"24px\"viewBox=\"0 0 24 24\"\n",
              "       width=\"24px\">\n",
              "    <path d=\"M0 0h24v24H0V0z\" fill=\"none\"/>\n",
              "    <path d=\"M18.56 5.44l.94 2.06.94-2.06 2.06-.94-2.06-.94-.94-2.06-.94 2.06-2.06.94zm-11 1L8.5 8.5l.94-2.06 2.06-.94-2.06-.94L8.5 2.5l-.94 2.06-2.06.94zm10 10l.94 2.06.94-2.06 2.06-.94-2.06-.94-.94-2.06-.94 2.06-2.06.94z\"/><path d=\"M17.41 7.96l-1.37-1.37c-.4-.4-.92-.59-1.43-.59-.52 0-1.04.2-1.43.59L10.3 9.45l-7.72 7.72c-.78.78-.78 2.05 0 2.83L4 21.41c.39.39.9.59 1.41.59.51 0 1.02-.2 1.41-.59l7.78-7.78 2.81-2.81c.8-.78.8-2.07 0-2.86zM5.41 20L4 18.59l7.72-7.72 1.47 1.35L5.41 20z\"/>\n",
              "  </svg>\n",
              "      </button>\n",
              "      \n",
              "  <style>\n",
              "    .colab-df-container {\n",
              "      display:flex;\n",
              "      flex-wrap:wrap;\n",
              "      gap: 12px;\n",
              "    }\n",
              "\n",
              "    .colab-df-convert {\n",
              "      background-color: #E8F0FE;\n",
              "      border: none;\n",
              "      border-radius: 50%;\n",
              "      cursor: pointer;\n",
              "      display: none;\n",
              "      fill: #1967D2;\n",
              "      height: 32px;\n",
              "      padding: 0 0 0 0;\n",
              "      width: 32px;\n",
              "    }\n",
              "\n",
              "    .colab-df-convert:hover {\n",
              "      background-color: #E2EBFA;\n",
              "      box-shadow: 0px 1px 2px rgba(60, 64, 67, 0.3), 0px 1px 3px 1px rgba(60, 64, 67, 0.15);\n",
              "      fill: #174EA6;\n",
              "    }\n",
              "\n",
              "    [theme=dark] .colab-df-convert {\n",
              "      background-color: #3B4455;\n",
              "      fill: #D2E3FC;\n",
              "    }\n",
              "\n",
              "    [theme=dark] .colab-df-convert:hover {\n",
              "      background-color: #434B5C;\n",
              "      box-shadow: 0px 1px 3px 1px rgba(0, 0, 0, 0.15);\n",
              "      filter: drop-shadow(0px 1px 2px rgba(0, 0, 0, 0.3));\n",
              "      fill: #FFFFFF;\n",
              "    }\n",
              "  </style>\n",
              "\n",
              "      <script>\n",
              "        const buttonEl =\n",
              "          document.querySelector('#df-32e53620-5b49-46de-8f12-eb11a9af00bd button.colab-df-convert');\n",
              "        buttonEl.style.display =\n",
              "          google.colab.kernel.accessAllowed ? 'block' : 'none';\n",
              "\n",
              "        async function convertToInteractive(key) {\n",
              "          const element = document.querySelector('#df-32e53620-5b49-46de-8f12-eb11a9af00bd');\n",
              "          const dataTable =\n",
              "            await google.colab.kernel.invokeFunction('convertToInteractive',\n",
              "                                                     [key], {});\n",
              "          if (!dataTable) return;\n",
              "\n",
              "          const docLinkHtml = 'Like what you see? Visit the ' +\n",
              "            '<a target=\"_blank\" href=https://colab.research.google.com/notebooks/data_table.ipynb>data table notebook</a>'\n",
              "            + ' to learn more about interactive tables.';\n",
              "          element.innerHTML = '';\n",
              "          dataTable['output_type'] = 'display_data';\n",
              "          await google.colab.output.renderOutput(dataTable, element);\n",
              "          const docLink = document.createElement('div');\n",
              "          docLink.innerHTML = docLinkHtml;\n",
              "          element.appendChild(docLink);\n",
              "        }\n",
              "      </script>\n",
              "    </div>\n",
              "  </div>\n",
              "  "
            ]
          },
          "metadata": {},
          "execution_count": 14
        }
      ]
    },
    {
      "cell_type": "markdown",
      "source": [
        "**Better location, bigger price?**"
      ],
      "metadata": {
        "id": "1DK8BOM4ppGf"
      }
    },
    {
      "cell_type": "code",
      "source": [
        "df_price_loc = df_listings.groupby(\"review_scores_location\")[\"price\"].mean(\n",
        "              ).reset_index()\n",
        "df_price_loc.columns = ['review_scores_location', 'mean_price']"
      ],
      "metadata": {
        "id": "Fb4RKAB72fXR"
      },
      "execution_count": null,
      "outputs": []
    },
    {
      "cell_type": "code",
      "source": [
        "fig, ax = plt.subplots(figsize=(18, 10))\n",
        "ax.bar(df_price_loc['review_scores_location'], df_price_loc['mean_price'],\n",
        "       width=0.2)\n",
        "plt.xlabel('Review Scores Location')\n",
        "plt.ylabel('Mean Price')\n",
        "plt.show()"
      ],
      "metadata": {
        "colab": {
          "base_uri": "https://localhost:8080/",
          "height": 606
        },
        "id": "7KDOKlAfp-0G",
        "outputId": "7a503b64-80b9-4817-dad6-f3e31f9abbb7"
      },
      "execution_count": null,
      "outputs": [
        {
          "output_type": "display_data",
          "data": {
            "text/plain": [
              "<Figure size 1296x720 with 1 Axes>"
            ],
            "image/png": "[encoded data removed]"
          },
          "metadata": {
            "needs_background": "light"
          }
        }
      ]
    },
    {
      "cell_type": "code",
      "source": [
        "group_function(groupby_var=\"review_scores_location\", smallest=True)"
      ],
      "metadata": {
        "colab": {
          "base_uri": "https://localhost:8080/"
        },
        "id": "VhYr_QWquhSR",
        "outputId": "2ff3d91c-4a85-46fa-9655-682bc563eabb"
      },
      "execution_count": null,
      "outputs": [
        {
          "output_type": "execute_result",
          "data": {
            "text/plain": [
              "review_scores_location\n",
              "4.12    65.0\n",
              "4.28    66.5\n",
              "4.16    84.0\n",
              "Name: price, dtype: float64"
            ]
          },
          "metadata": {},
          "execution_count": 90
        }
      ]
    },
    {
      "cell_type": "code",
      "source": [
        "group_function(groupby_var=\"review_scores_location\" , smallest=False)"
      ],
      "metadata": {
        "colab": {
          "base_uri": "https://localhost:8080/"
        },
        "id": "sW0nJHRcwwOR",
        "outputId": "40568c1d-697c-4b6e-ffd4-e11c9009cf45"
      },
      "execution_count": null,
      "outputs": [
        {
          "output_type": "execute_result",
          "data": {
            "text/plain": [
              "review_scores_location\n",
              "4.64    1865.071429\n",
              "3.40     599.000000\n",
              "4.91     459.627451\n",
              "Name: price, dtype: float64"
            ]
          },
          "metadata": {},
          "execution_count": 91
        }
      ]
    },
    {
      "cell_type": "markdown",
      "source": [
        "**Verified hosts**"
      ],
      "metadata": {
        "id": "jw0MACeHzIeK"
      }
    },
    {
      "cell_type": "code",
      "source": [
        "df_listings[\"host_identity_verified\"] = df_listings[\"host_identity_verified\"\n",
        "                              ].replace('t', 'true').replace('f', 'false')"
      ],
      "metadata": {
        "id": "-LCBlPqk3TYk"
      },
      "execution_count": null,
      "outputs": []
    },
    {
      "cell_type": "code",
      "source": [
        "df_pivoted = df_listings.pivot_table(values=[\"source\"], index=[\"host_id\", \n",
        "                  \"host_identity_verified\"], aggfunc=['count']).reset_index()"
      ],
      "metadata": {
        "id": "E8pD1wdu30Ey"
      },
      "execution_count": null,
      "outputs": []
    },
    {
      "cell_type": "code",
      "source": [
        "df_verified = df_pivoted[\"host_identity_verified\"].value_counts().reset_index()\n",
        "df_verified.columns = ['host_identity_verified', 'sum']\n",
        "df_verified"
      ],
      "metadata": {
        "colab": {
          "base_uri": "https://localhost:8080/",
          "height": 112
        },
        "id": "POWcCuOW1vFJ",
        "outputId": "e26ffdfd-b3f4-4db4-cd72-05b021d14813"
      },
      "execution_count": null,
      "outputs": [
        {
          "output_type": "execute_result",
          "data": {
            "text/plain": [
              "  host_identity_verified   sum\n",
              "0                   true  4868\n",
              "1                  false   905"
            ],
            "text/html": [
              "\n",
              "  <div id=\"df-42991559-bb22-4eae-bc37-b15f8d8a96ef\">\n",
              "    <div class=\"colab-df-container\">\n",
              "      <div>\n",
              "<style scoped>\n",
              "    .dataframe tbody tr th:only-of-type {\n",
              "        vertical-align: middle;\n",
              "    }\n",
              "\n",
              "    .dataframe tbody tr th {\n",
              "        vertical-align: top;\n",
              "    }\n",
              "\n",
              "    .dataframe thead th {\n",
              "        text-align: right;\n",
              "    }\n",
              "</style>\n",
              "<table border=\"1\" class=\"dataframe\">\n",
              "  <thead>\n",
              "    <tr style=\"text-align: right;\">\n",
              "      <th></th>\n",
              "      <th>host_identity_verified</th>\n",
              "      <th>sum</th>\n",
              "    </tr>\n",
              "  </thead>\n",
              "  <tbody>\n",
              "    <tr>\n",
              "      <th>0</th>\n",
              "      <td>true</td>\n",
              "      <td>4868</td>\n",
              "    </tr>\n",
              "    <tr>\n",
              "      <th>1</th>\n",
              "      <td>false</td>\n",
              "      <td>905</td>\n",
              "    </tr>\n",
              "  </tbody>\n",
              "</table>\n",
              "</div>\n",
              "      <button class=\"colab-df-convert\" onclick=\"convertToInteractive('df-42991559-bb22-4eae-bc37-b15f8d8a96ef')\"\n",
              "              title=\"Convert this dataframe to an interactive table.\"\n",
              "              style=\"display:none;\">\n",
              "        \n",
              "  <svg xmlns=\"http://www.w3.org/2000/svg\" height=\"24px\"viewBox=\"0 0 24 24\"\n",
              "       width=\"24px\">\n",
              "    <path d=\"M0 0h24v24H0V0z\" fill=\"none\"/>\n",
              "    <path d=\"M18.56 5.44l.94 2.06.94-2.06 2.06-.94-2.06-.94-.94-2.06-.94 2.06-2.06.94zm-11 1L8.5 8.5l.94-2.06 2.06-.94-2.06-.94L8.5 2.5l-.94 2.06-2.06.94zm10 10l.94 2.06.94-2.06 2.06-.94-2.06-.94-.94-2.06-.94 2.06-2.06.94z\"/><path d=\"M17.41 7.96l-1.37-1.37c-.4-.4-.92-.59-1.43-.59-.52 0-1.04.2-1.43.59L10.3 9.45l-7.72 7.72c-.78.78-.78 2.05 0 2.83L4 21.41c.39.39.9.59 1.41.59.51 0 1.02-.2 1.41-.59l7.78-7.78 2.81-2.81c.8-.78.8-2.07 0-2.86zM5.41 20L4 18.59l7.72-7.72 1.47 1.35L5.41 20z\"/>\n",
              "  </svg>\n",
              "      </button>\n",
              "      \n",
              "  <style>\n",
              "    .colab-df-container {\n",
              "      display:flex;\n",
              "      flex-wrap:wrap;\n",
              "      gap: 12px;\n",
              "    }\n",
              "\n",
              "    .colab-df-convert {\n",
              "      background-color: #E8F0FE;\n",
              "      border: none;\n",
              "      border-radius: 50%;\n",
              "      cursor: pointer;\n",
              "      display: none;\n",
              "      fill: #1967D2;\n",
              "      height: 32px;\n",
              "      padding: 0 0 0 0;\n",
              "      width: 32px;\n",
              "    }\n",
              "\n",
              "    .colab-df-convert:hover {\n",
              "      background-color: #E2EBFA;\n",
              "      box-shadow: 0px 1px 2px rgba(60, 64, 67, 0.3), 0px 1px 3px 1px rgba(60, 64, 67, 0.15);\n",
              "      fill: #174EA6;\n",
              "    }\n",
              "\n",
              "    [theme=dark] .colab-df-convert {\n",
              "      background-color: #3B4455;\n",
              "      fill: #D2E3FC;\n",
              "    }\n",
              "\n",
              "    [theme=dark] .colab-df-convert:hover {\n",
              "      background-color: #434B5C;\n",
              "      box-shadow: 0px 1px 3px 1px rgba(0, 0, 0, 0.15);\n",
              "      filter: drop-shadow(0px 1px 2px rgba(0, 0, 0, 0.3));\n",
              "      fill: #FFFFFF;\n",
              "    }\n",
              "  </style>\n",
              "\n",
              "      <script>\n",
              "        const buttonEl =\n",
              "          document.querySelector('#df-42991559-bb22-4eae-bc37-b15f8d8a96ef button.colab-df-convert');\n",
              "        buttonEl.style.display =\n",
              "          google.colab.kernel.accessAllowed ? 'block' : 'none';\n",
              "\n",
              "        async function convertToInteractive(key) {\n",
              "          const element = document.querySelector('#df-42991559-bb22-4eae-bc37-b15f8d8a96ef');\n",
              "          const dataTable =\n",
              "            await google.colab.kernel.invokeFunction('convertToInteractive',\n",
              "                                                     [key], {});\n",
              "          if (!dataTable) return;\n",
              "\n",
              "          const docLinkHtml = 'Like what you see? Visit the ' +\n",
              "            '<a target=\"_blank\" href=https://colab.research.google.com/notebooks/data_table.ipynb>data table notebook</a>'\n",
              "            + ' to learn more about interactive tables.';\n",
              "          element.innerHTML = '';\n",
              "          dataTable['output_type'] = 'display_data';\n",
              "          await google.colab.output.renderOutput(dataTable, element);\n",
              "          const docLink = document.createElement('div');\n",
              "          docLink.innerHTML = docLinkHtml;\n",
              "          element.appendChild(docLink);\n",
              "        }\n",
              "      </script>\n",
              "    </div>\n",
              "  </div>\n",
              "  "
            ]
          },
          "metadata": {},
          "execution_count": 94
        }
      ]
    },
    {
      "cell_type": "code",
      "source": [
        "df_verified_perc = df_pivoted[\"host_identity_verified\"].value_counts(\n",
        "    normalize=True).reset_index()\n",
        "df_verified_perc.columns = ['host_identity_verified', 'sum']\n",
        "df_verified_perc"
      ],
      "metadata": {
        "colab": {
          "base_uri": "https://localhost:8080/",
          "height": 112
        },
        "id": "yH275Z2c7GZ6",
        "outputId": "04293141-7262-44ec-a90e-5d099f7f5206"
      },
      "execution_count": null,
      "outputs": [
        {
          "output_type": "execute_result",
          "data": {
            "text/plain": [
              "  host_identity_verified       sum\n",
              "0                   true  0.843236\n",
              "1                  false  0.156764"
            ],
            "text/html": [
              "\n",
              "  <div id=\"df-ea5d030a-eb5f-4454-9028-455c844cbe7b\">\n",
              "    <div class=\"colab-df-container\">\n",
              "      <div>\n",
              "<style scoped>\n",
              "    .dataframe tbody tr th:only-of-type {\n",
              "        vertical-align: middle;\n",
              "    }\n",
              "\n",
              "    .dataframe tbody tr th {\n",
              "        vertical-align: top;\n",
              "    }\n",
              "\n",
              "    .dataframe thead th {\n",
              "        text-align: right;\n",
              "    }\n",
              "</style>\n",
              "<table border=\"1\" class=\"dataframe\">\n",
              "  <thead>\n",
              "    <tr style=\"text-align: right;\">\n",
              "      <th></th>\n",
              "      <th>host_identity_verified</th>\n",
              "      <th>sum</th>\n",
              "    </tr>\n",
              "  </thead>\n",
              "  <tbody>\n",
              "    <tr>\n",
              "      <th>0</th>\n",
              "      <td>true</td>\n",
              "      <td>0.843236</td>\n",
              "    </tr>\n",
              "    <tr>\n",
              "      <th>1</th>\n",
              "      <td>false</td>\n",
              "      <td>0.156764</td>\n",
              "    </tr>\n",
              "  </tbody>\n",
              "</table>\n",
              "</div>\n",
              "      <button class=\"colab-df-convert\" onclick=\"convertToInteractive('df-ea5d030a-eb5f-4454-9028-455c844cbe7b')\"\n",
              "              title=\"Convert this dataframe to an interactive table.\"\n",
              "              style=\"display:none;\">\n",
              "        \n",
              "  <svg xmlns=\"http://www.w3.org/2000/svg\" height=\"24px\"viewBox=\"0 0 24 24\"\n",
              "       width=\"24px\">\n",
              "    <path d=\"M0 0h24v24H0V0z\" fill=\"none\"/>\n",
              "    <path d=\"M18.56 5.44l.94 2.06.94-2.06 2.06-.94-2.06-.94-.94-2.06-.94 2.06-2.06.94zm-11 1L8.5 8.5l.94-2.06 2.06-.94-2.06-.94L8.5 2.5l-.94 2.06-2.06.94zm10 10l.94 2.06.94-2.06 2.06-.94-2.06-.94-.94-2.06-.94 2.06-2.06.94z\"/><path d=\"M17.41 7.96l-1.37-1.37c-.4-.4-.92-.59-1.43-.59-.52 0-1.04.2-1.43.59L10.3 9.45l-7.72 7.72c-.78.78-.78 2.05 0 2.83L4 21.41c.39.39.9.59 1.41.59.51 0 1.02-.2 1.41-.59l7.78-7.78 2.81-2.81c.8-.78.8-2.07 0-2.86zM5.41 20L4 18.59l7.72-7.72 1.47 1.35L5.41 20z\"/>\n",
              "  </svg>\n",
              "      </button>\n",
              "      \n",
              "  <style>\n",
              "    .colab-df-container {\n",
              "      display:flex;\n",
              "      flex-wrap:wrap;\n",
              "      gap: 12px;\n",
              "    }\n",
              "\n",
              "    .colab-df-convert {\n",
              "      background-color: #E8F0FE;\n",
              "      border: none;\n",
              "      border-radius: 50%;\n",
              "      cursor: pointer;\n",
              "      display: none;\n",
              "      fill: #1967D2;\n",
              "      height: 32px;\n",
              "      padding: 0 0 0 0;\n",
              "      width: 32px;\n",
              "    }\n",
              "\n",
              "    .colab-df-convert:hover {\n",
              "      background-color: #E2EBFA;\n",
              "      box-shadow: 0px 1px 2px rgba(60, 64, 67, 0.3), 0px 1px 3px 1px rgba(60, 64, 67, 0.15);\n",
              "      fill: #174EA6;\n",
              "    }\n",
              "\n",
              "    [theme=dark] .colab-df-convert {\n",
              "      background-color: #3B4455;\n",
              "      fill: #D2E3FC;\n",
              "    }\n",
              "\n",
              "    [theme=dark] .colab-df-convert:hover {\n",
              "      background-color: #434B5C;\n",
              "      box-shadow: 0px 1px 3px 1px rgba(0, 0, 0, 0.15);\n",
              "      filter: drop-shadow(0px 1px 2px rgba(0, 0, 0, 0.3));\n",
              "      fill: #FFFFFF;\n",
              "    }\n",
              "  </style>\n",
              "\n",
              "      <script>\n",
              "        const buttonEl =\n",
              "          document.querySelector('#df-ea5d030a-eb5f-4454-9028-455c844cbe7b button.colab-df-convert');\n",
              "        buttonEl.style.display =\n",
              "          google.colab.kernel.accessAllowed ? 'block' : 'none';\n",
              "\n",
              "        async function convertToInteractive(key) {\n",
              "          const element = document.querySelector('#df-ea5d030a-eb5f-4454-9028-455c844cbe7b');\n",
              "          const dataTable =\n",
              "            await google.colab.kernel.invokeFunction('convertToInteractive',\n",
              "                                                     [key], {});\n",
              "          if (!dataTable) return;\n",
              "\n",
              "          const docLinkHtml = 'Like what you see? Visit the ' +\n",
              "            '<a target=\"_blank\" href=https://colab.research.google.com/notebooks/data_table.ipynb>data table notebook</a>'\n",
              "            + ' to learn more about interactive tables.';\n",
              "          element.innerHTML = '';\n",
              "          dataTable['output_type'] = 'display_data';\n",
              "          await google.colab.output.renderOutput(dataTable, element);\n",
              "          const docLink = document.createElement('div');\n",
              "          docLink.innerHTML = docLinkHtml;\n",
              "          element.appendChild(docLink);\n",
              "        }\n",
              "      </script>\n",
              "    </div>\n",
              "  </div>\n",
              "  "
            ]
          },
          "metadata": {},
          "execution_count": 95
        }
      ]
    },
    {
      "cell_type": "code",
      "source": [
        "# Create data\n",
        "labels = df_verified[\"host_identity_verified\"]\n",
        "values = df_verified[\"sum\"]\n",
        "\n",
        "# Set colors for each label\n",
        "colors = [\"green\" if label==\"true\" else \"red\" for label in labels]\n",
        "\n",
        "fig = plt.figure(figsize=(10,7))\n",
        "# Create bar plot\n",
        "plt.bar(labels, values, color=colors)\n",
        "\n",
        "# Set chart title and labels\n",
        "plt.title(\"Verified Hosts\")\n",
        "plt.xlabel(\"Host Identity Verified\")\n",
        "plt.ylabel(\"Count\")\n",
        "\n",
        "# Show plot\n",
        "plt.show()"
      ],
      "metadata": {
        "colab": {
          "base_uri": "https://localhost:8080/",
          "height": 458
        },
        "id": "AY74Cjne5sFS",
        "outputId": "7abd5493-7072-490b-9326-8b908e47bfd9"
      },
      "execution_count": null,
      "outputs": [
        {
          "output_type": "display_data",
          "data": {
            "text/plain": [
              "<Figure size 720x504 with 1 Axes>"
            ],
            "image/png": "[encoded data removed]"
          },
          "metadata": {
            "needs_background": "light"
          }
        }
      ]
    },
    {
      "cell_type": "code",
      "source": [
        "#mean prive for verified/non-verfied hosts\n",
        "group_function(groupby_var=\"host_identity_verified\")"
      ],
      "metadata": {
        "colab": {
          "base_uri": "https://localhost:8080/"
        },
        "id": "Y8OoWtPO2fP7",
        "outputId": "27535925-3d29-4232-9929-9532e4aeb4ba"
      },
      "execution_count": null,
      "outputs": [
        {
          "output_type": "execute_result",
          "data": {
            "text/plain": [
              "host_identity_verified\n",
              "false    204.955624\n",
              "true     235.537158\n",
              "Name: price, dtype: float64"
            ]
          },
          "metadata": {},
          "execution_count": 60
        }
      ]
    }
  ]
}